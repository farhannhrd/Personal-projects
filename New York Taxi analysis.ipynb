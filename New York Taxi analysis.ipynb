{
 "cells": [
  {
   "cell_type": "markdown",
   "metadata": {},
   "source": [
    "## New York City Taxi service exploratory analysis\n",
    "\n",
    "This notebook is a data analysis of New York City's Taxi services. \n",
    "\n",
    "The dataset utilized will be the dataset provided for Kaggle.com's 'New York City Taxi Fare Prediction' competition. \n",
    "\n",
    "The nature of the analysis in this notebook will be exploratory in order to unearth insights that would help identify and solve business problems.\n",
    "\n",
    "The necessary packages are imported and the dataset is imported into a Pandas dataframe (train). The next few lines of code will display the shape, info as well as the head of the dataframe. \n"
   ]
  },
  {
   "cell_type": "code",
   "execution_count": 4,
   "metadata": {},
   "outputs": [],
   "source": [
    "import numpy as np\n",
    "import pandas as pd\n",
    "\n",
    "\n",
    "import matplotlib.pyplot as plt\n",
    "%matplotlib inline\n",
    "import seaborn as sns\n",
    "\n",
    "from datetime import datetime\n",
    "import calendar\n",
    "import datetime as dt"
   ]
  },
  {
   "cell_type": "code",
   "execution_count": 5,
   "metadata": {},
   "outputs": [
    {
     "data": {
      "text/plain": [
       "(1458644, 11)"
      ]
     },
     "execution_count": 5,
     "metadata": {},
     "output_type": "execute_result"
    }
   ],
   "source": [
    "train = pd.read_csv('train.csv')\n",
    "\n",
    "train.shape"
   ]
  },
  {
   "cell_type": "code",
   "execution_count": 6,
   "metadata": {},
   "outputs": [
    {
     "name": "stdout",
     "output_type": "stream",
     "text": [
      "<class 'pandas.core.frame.DataFrame'>\n",
      "RangeIndex: 1458644 entries, 0 to 1458643\n",
      "Data columns (total 11 columns):\n",
      "id                    1458644 non-null object\n",
      "vendor_id             1458644 non-null int64\n",
      "pickup_datetime       1458644 non-null object\n",
      "dropoff_datetime      1458644 non-null object\n",
      "passenger_count       1458644 non-null int64\n",
      "pickup_longitude      1458644 non-null float64\n",
      "pickup_latitude       1458644 non-null float64\n",
      "dropoff_longitude     1458644 non-null float64\n",
      "dropoff_latitude      1458644 non-null float64\n",
      "store_and_fwd_flag    1458644 non-null object\n",
      "trip_duration         1458644 non-null int64\n",
      "dtypes: float64(4), int64(3), object(4)\n",
      "memory usage: 122.4+ MB\n"
     ]
    }
   ],
   "source": [
    "train.info()"
   ]
  },
  {
   "cell_type": "code",
   "execution_count": 7,
   "metadata": {},
   "outputs": [
    {
     "data": {
      "text/html": [
       "<div>\n",
       "<style scoped>\n",
       "    .dataframe tbody tr th:only-of-type {\n",
       "        vertical-align: middle;\n",
       "    }\n",
       "\n",
       "    .dataframe tbody tr th {\n",
       "        vertical-align: top;\n",
       "    }\n",
       "\n",
       "    .dataframe thead th {\n",
       "        text-align: right;\n",
       "    }\n",
       "</style>\n",
       "<table border=\"1\" class=\"dataframe\">\n",
       "  <thead>\n",
       "    <tr style=\"text-align: right;\">\n",
       "      <th></th>\n",
       "      <th>id</th>\n",
       "      <th>vendor_id</th>\n",
       "      <th>pickup_datetime</th>\n",
       "      <th>dropoff_datetime</th>\n",
       "      <th>passenger_count</th>\n",
       "      <th>pickup_longitude</th>\n",
       "      <th>pickup_latitude</th>\n",
       "      <th>dropoff_longitude</th>\n",
       "      <th>dropoff_latitude</th>\n",
       "      <th>store_and_fwd_flag</th>\n",
       "      <th>trip_duration</th>\n",
       "    </tr>\n",
       "  </thead>\n",
       "  <tbody>\n",
       "    <tr>\n",
       "      <th>0</th>\n",
       "      <td>id2875421</td>\n",
       "      <td>2</td>\n",
       "      <td>2016-03-14 17:24:55</td>\n",
       "      <td>2016-03-14 17:32:30</td>\n",
       "      <td>1</td>\n",
       "      <td>-73.982155</td>\n",
       "      <td>40.767937</td>\n",
       "      <td>-73.964630</td>\n",
       "      <td>40.765602</td>\n",
       "      <td>N</td>\n",
       "      <td>455</td>\n",
       "    </tr>\n",
       "    <tr>\n",
       "      <th>1</th>\n",
       "      <td>id2377394</td>\n",
       "      <td>1</td>\n",
       "      <td>2016-06-12 00:43:35</td>\n",
       "      <td>2016-06-12 00:54:38</td>\n",
       "      <td>1</td>\n",
       "      <td>-73.980415</td>\n",
       "      <td>40.738564</td>\n",
       "      <td>-73.999481</td>\n",
       "      <td>40.731152</td>\n",
       "      <td>N</td>\n",
       "      <td>663</td>\n",
       "    </tr>\n",
       "    <tr>\n",
       "      <th>2</th>\n",
       "      <td>id3858529</td>\n",
       "      <td>2</td>\n",
       "      <td>2016-01-19 11:35:24</td>\n",
       "      <td>2016-01-19 12:10:48</td>\n",
       "      <td>1</td>\n",
       "      <td>-73.979027</td>\n",
       "      <td>40.763939</td>\n",
       "      <td>-74.005333</td>\n",
       "      <td>40.710087</td>\n",
       "      <td>N</td>\n",
       "      <td>2124</td>\n",
       "    </tr>\n",
       "    <tr>\n",
       "      <th>3</th>\n",
       "      <td>id3504673</td>\n",
       "      <td>2</td>\n",
       "      <td>2016-04-06 19:32:31</td>\n",
       "      <td>2016-04-06 19:39:40</td>\n",
       "      <td>1</td>\n",
       "      <td>-74.010040</td>\n",
       "      <td>40.719971</td>\n",
       "      <td>-74.012268</td>\n",
       "      <td>40.706718</td>\n",
       "      <td>N</td>\n",
       "      <td>429</td>\n",
       "    </tr>\n",
       "    <tr>\n",
       "      <th>4</th>\n",
       "      <td>id2181028</td>\n",
       "      <td>2</td>\n",
       "      <td>2016-03-26 13:30:55</td>\n",
       "      <td>2016-03-26 13:38:10</td>\n",
       "      <td>1</td>\n",
       "      <td>-73.973053</td>\n",
       "      <td>40.793209</td>\n",
       "      <td>-73.972923</td>\n",
       "      <td>40.782520</td>\n",
       "      <td>N</td>\n",
       "      <td>435</td>\n",
       "    </tr>\n",
       "  </tbody>\n",
       "</table>\n",
       "</div>"
      ],
      "text/plain": [
       "          id  vendor_id      pickup_datetime     dropoff_datetime  \\\n",
       "0  id2875421          2  2016-03-14 17:24:55  2016-03-14 17:32:30   \n",
       "1  id2377394          1  2016-06-12 00:43:35  2016-06-12 00:54:38   \n",
       "2  id3858529          2  2016-01-19 11:35:24  2016-01-19 12:10:48   \n",
       "3  id3504673          2  2016-04-06 19:32:31  2016-04-06 19:39:40   \n",
       "4  id2181028          2  2016-03-26 13:30:55  2016-03-26 13:38:10   \n",
       "\n",
       "   passenger_count  pickup_longitude  pickup_latitude  dropoff_longitude  \\\n",
       "0                1        -73.982155        40.767937         -73.964630   \n",
       "1                1        -73.980415        40.738564         -73.999481   \n",
       "2                1        -73.979027        40.763939         -74.005333   \n",
       "3                1        -74.010040        40.719971         -74.012268   \n",
       "4                1        -73.973053        40.793209         -73.972923   \n",
       "\n",
       "   dropoff_latitude store_and_fwd_flag  trip_duration  \n",
       "0         40.765602                  N            455  \n",
       "1         40.731152                  N            663  \n",
       "2         40.710087                  N           2124  \n",
       "3         40.706718                  N            429  \n",
       "4         40.782520                  N            435  "
      ]
     },
     "execution_count": 7,
     "metadata": {},
     "output_type": "execute_result"
    }
   ],
   "source": [
    "train.head()"
   ]
  },
  {
   "cell_type": "markdown",
   "metadata": {},
   "source": [
    "### Data cleaning\n",
    "\n",
    "We can observe that the columns 'pickup_datetime' and 'dropoff_datetime' are object data types. The code below will convert these columns into the datetime data type for easier manipulation as well as the trip duration from seconds into minutes. After converting those columns, we pass in an .info() command to check that it has indeed been converted to a datetime data type.\n",
    "\n",
    "Other than checking for any missing values with the \"isnull\" command, we'll find the range of the dataset by passing in the min & max of the pickup times, revealing to us that the dataset consist of data over a period of 6 months from Jan to June of 2016."
   ]
  },
  {
   "cell_type": "code",
   "execution_count": 8,
   "metadata": {},
   "outputs": [],
   "source": [
    "train['pickup_datetime'] = pd.to_datetime(train['pickup_datetime'],format='%Y-%m-%d %H:%M:%S')\n",
    "train['dropoff_datetime'] = pd.to_datetime(train['dropoff_datetime'],format='%Y-%m-%d %H:%M:%S')\n",
    "train['trip_duration_in_minutes'] = train['trip_duration'].apply(lambda x:x/60)"
   ]
  },
  {
   "cell_type": "code",
   "execution_count": 9,
   "metadata": {},
   "outputs": [
    {
     "name": "stdout",
     "output_type": "stream",
     "text": [
      "<class 'pandas.core.frame.DataFrame'>\n",
      "RangeIndex: 1458644 entries, 0 to 1458643\n",
      "Data columns (total 12 columns):\n",
      "id                          1458644 non-null object\n",
      "vendor_id                   1458644 non-null int64\n",
      "pickup_datetime             1458644 non-null datetime64[ns]\n",
      "dropoff_datetime            1458644 non-null datetime64[ns]\n",
      "passenger_count             1458644 non-null int64\n",
      "pickup_longitude            1458644 non-null float64\n",
      "pickup_latitude             1458644 non-null float64\n",
      "dropoff_longitude           1458644 non-null float64\n",
      "dropoff_latitude            1458644 non-null float64\n",
      "store_and_fwd_flag          1458644 non-null object\n",
      "trip_duration               1458644 non-null int64\n",
      "trip_duration_in_minutes    1458644 non-null float64\n",
      "dtypes: datetime64[ns](2), float64(5), int64(3), object(2)\n",
      "memory usage: 133.5+ MB\n"
     ]
    }
   ],
   "source": [
    "train.info()"
   ]
  },
  {
   "cell_type": "code",
   "execution_count": 10,
   "metadata": {},
   "outputs": [
    {
     "data": {
      "text/plain": [
       "id                          0.0\n",
       "vendor_id                   0.0\n",
       "pickup_datetime             0.0\n",
       "dropoff_datetime            0.0\n",
       "passenger_count             0.0\n",
       "pickup_longitude            0.0\n",
       "pickup_latitude             0.0\n",
       "dropoff_longitude           0.0\n",
       "dropoff_latitude            0.0\n",
       "store_and_fwd_flag          0.0\n",
       "trip_duration               0.0\n",
       "trip_duration_in_minutes    0.0\n",
       "dtype: float64"
      ]
     },
     "execution_count": 10,
     "metadata": {},
     "output_type": "execute_result"
    }
   ],
   "source": [
    "train[pd.isnull(train)].sum()"
   ]
  },
  {
   "cell_type": "code",
   "execution_count": 11,
   "metadata": {},
   "outputs": [
    {
     "name": "stdout",
     "output_type": "stream",
     "text": [
      "Min pickup time: 2016-01-01 00:00:17\n",
      "Max pickup time: 2016-06-30 23:59:39\n"
     ]
    }
   ],
   "source": [
    "print(\"Min pickup time:\",min(train['pickup_datetime']))\n",
    "print(\"Max pickup time:\",max(train['pickup_datetime']))\n",
    "\n",
    "#rides are from 1st Jan to 30th June midnight"
   ]
  },
  {
   "cell_type": "markdown",
   "metadata": {},
   "source": [
    "#### As the pickup and dropoff columns are now datetime data types, we can pass in functions to create new columns while extracting the day of week, date and hour of the pickups & dropoffs.\n",
    "\n",
    "\n",
    "\n",
    "\n"
   ]
  },
  {
   "cell_type": "code",
   "execution_count": 12,
   "metadata": {},
   "outputs": [],
   "source": [
    "train['pickup_date']= train['pickup_datetime'].dt.date\n",
    "train['pickup_day'] = train['pickup_datetime'].apply(lambda x:x.day)\n",
    "train['pickup_hour']=train['pickup_datetime'].apply(lambda x:x.hour)\n",
    "train['pickup_day_of_week']=train['pickup_datetime'].apply(lambda x:calendar.day_name[x.weekday()])\n",
    "\n",
    "train['dropoff_date']= train['dropoff_datetime'].dt.date\n",
    "train['dropoff_day']=train['dropoff_datetime'].apply(lambda x:x.day)\n",
    "train['dropoff_hour']=train['dropoff_datetime'].apply(lambda x:x.hour)\n",
    "train['dropoff_day_of_week']=train['dropoff_datetime'].apply(lambda x:calendar.day_name[x.weekday()])"
   ]
  },
  {
   "cell_type": "code",
   "execution_count": 13,
   "metadata": {},
   "outputs": [
    {
     "data": {
      "text/html": [
       "<div>\n",
       "<style scoped>\n",
       "    .dataframe tbody tr th:only-of-type {\n",
       "        vertical-align: middle;\n",
       "    }\n",
       "\n",
       "    .dataframe tbody tr th {\n",
       "        vertical-align: top;\n",
       "    }\n",
       "\n",
       "    .dataframe thead th {\n",
       "        text-align: right;\n",
       "    }\n",
       "</style>\n",
       "<table border=\"1\" class=\"dataframe\">\n",
       "  <thead>\n",
       "    <tr style=\"text-align: right;\">\n",
       "      <th></th>\n",
       "      <th>id</th>\n",
       "      <th>vendor_id</th>\n",
       "      <th>pickup_datetime</th>\n",
       "      <th>dropoff_datetime</th>\n",
       "      <th>passenger_count</th>\n",
       "      <th>pickup_longitude</th>\n",
       "      <th>pickup_latitude</th>\n",
       "      <th>dropoff_longitude</th>\n",
       "      <th>dropoff_latitude</th>\n",
       "      <th>store_and_fwd_flag</th>\n",
       "      <th>trip_duration</th>\n",
       "      <th>trip_duration_in_minutes</th>\n",
       "      <th>pickup_date</th>\n",
       "      <th>pickup_day</th>\n",
       "      <th>pickup_hour</th>\n",
       "      <th>pickup_day_of_week</th>\n",
       "      <th>dropoff_date</th>\n",
       "      <th>dropoff_day</th>\n",
       "      <th>dropoff_hour</th>\n",
       "      <th>dropoff_day_of_week</th>\n",
       "    </tr>\n",
       "  </thead>\n",
       "  <tbody>\n",
       "    <tr>\n",
       "      <th>0</th>\n",
       "      <td>id2875421</td>\n",
       "      <td>2</td>\n",
       "      <td>2016-03-14 17:24:55</td>\n",
       "      <td>2016-03-14 17:32:30</td>\n",
       "      <td>1</td>\n",
       "      <td>-73.982155</td>\n",
       "      <td>40.767937</td>\n",
       "      <td>-73.964630</td>\n",
       "      <td>40.765602</td>\n",
       "      <td>N</td>\n",
       "      <td>455</td>\n",
       "      <td>7.583333</td>\n",
       "      <td>2016-03-14</td>\n",
       "      <td>14</td>\n",
       "      <td>17</td>\n",
       "      <td>Monday</td>\n",
       "      <td>2016-03-14</td>\n",
       "      <td>14</td>\n",
       "      <td>17</td>\n",
       "      <td>Monday</td>\n",
       "    </tr>\n",
       "    <tr>\n",
       "      <th>1</th>\n",
       "      <td>id2377394</td>\n",
       "      <td>1</td>\n",
       "      <td>2016-06-12 00:43:35</td>\n",
       "      <td>2016-06-12 00:54:38</td>\n",
       "      <td>1</td>\n",
       "      <td>-73.980415</td>\n",
       "      <td>40.738564</td>\n",
       "      <td>-73.999481</td>\n",
       "      <td>40.731152</td>\n",
       "      <td>N</td>\n",
       "      <td>663</td>\n",
       "      <td>11.050000</td>\n",
       "      <td>2016-06-12</td>\n",
       "      <td>12</td>\n",
       "      <td>0</td>\n",
       "      <td>Sunday</td>\n",
       "      <td>2016-06-12</td>\n",
       "      <td>12</td>\n",
       "      <td>0</td>\n",
       "      <td>Sunday</td>\n",
       "    </tr>\n",
       "    <tr>\n",
       "      <th>2</th>\n",
       "      <td>id3858529</td>\n",
       "      <td>2</td>\n",
       "      <td>2016-01-19 11:35:24</td>\n",
       "      <td>2016-01-19 12:10:48</td>\n",
       "      <td>1</td>\n",
       "      <td>-73.979027</td>\n",
       "      <td>40.763939</td>\n",
       "      <td>-74.005333</td>\n",
       "      <td>40.710087</td>\n",
       "      <td>N</td>\n",
       "      <td>2124</td>\n",
       "      <td>35.400000</td>\n",
       "      <td>2016-01-19</td>\n",
       "      <td>19</td>\n",
       "      <td>11</td>\n",
       "      <td>Tuesday</td>\n",
       "      <td>2016-01-19</td>\n",
       "      <td>19</td>\n",
       "      <td>12</td>\n",
       "      <td>Tuesday</td>\n",
       "    </tr>\n",
       "    <tr>\n",
       "      <th>3</th>\n",
       "      <td>id3504673</td>\n",
       "      <td>2</td>\n",
       "      <td>2016-04-06 19:32:31</td>\n",
       "      <td>2016-04-06 19:39:40</td>\n",
       "      <td>1</td>\n",
       "      <td>-74.010040</td>\n",
       "      <td>40.719971</td>\n",
       "      <td>-74.012268</td>\n",
       "      <td>40.706718</td>\n",
       "      <td>N</td>\n",
       "      <td>429</td>\n",
       "      <td>7.150000</td>\n",
       "      <td>2016-04-06</td>\n",
       "      <td>6</td>\n",
       "      <td>19</td>\n",
       "      <td>Wednesday</td>\n",
       "      <td>2016-04-06</td>\n",
       "      <td>6</td>\n",
       "      <td>19</td>\n",
       "      <td>Wednesday</td>\n",
       "    </tr>\n",
       "    <tr>\n",
       "      <th>4</th>\n",
       "      <td>id2181028</td>\n",
       "      <td>2</td>\n",
       "      <td>2016-03-26 13:30:55</td>\n",
       "      <td>2016-03-26 13:38:10</td>\n",
       "      <td>1</td>\n",
       "      <td>-73.973053</td>\n",
       "      <td>40.793209</td>\n",
       "      <td>-73.972923</td>\n",
       "      <td>40.782520</td>\n",
       "      <td>N</td>\n",
       "      <td>435</td>\n",
       "      <td>7.250000</td>\n",
       "      <td>2016-03-26</td>\n",
       "      <td>26</td>\n",
       "      <td>13</td>\n",
       "      <td>Saturday</td>\n",
       "      <td>2016-03-26</td>\n",
       "      <td>26</td>\n",
       "      <td>13</td>\n",
       "      <td>Saturday</td>\n",
       "    </tr>\n",
       "  </tbody>\n",
       "</table>\n",
       "</div>"
      ],
      "text/plain": [
       "          id  vendor_id     pickup_datetime    dropoff_datetime  \\\n",
       "0  id2875421          2 2016-03-14 17:24:55 2016-03-14 17:32:30   \n",
       "1  id2377394          1 2016-06-12 00:43:35 2016-06-12 00:54:38   \n",
       "2  id3858529          2 2016-01-19 11:35:24 2016-01-19 12:10:48   \n",
       "3  id3504673          2 2016-04-06 19:32:31 2016-04-06 19:39:40   \n",
       "4  id2181028          2 2016-03-26 13:30:55 2016-03-26 13:38:10   \n",
       "\n",
       "   passenger_count  pickup_longitude  pickup_latitude  dropoff_longitude  \\\n",
       "0                1        -73.982155        40.767937         -73.964630   \n",
       "1                1        -73.980415        40.738564         -73.999481   \n",
       "2                1        -73.979027        40.763939         -74.005333   \n",
       "3                1        -74.010040        40.719971         -74.012268   \n",
       "4                1        -73.973053        40.793209         -73.972923   \n",
       "\n",
       "   dropoff_latitude store_and_fwd_flag  trip_duration  \\\n",
       "0         40.765602                  N            455   \n",
       "1         40.731152                  N            663   \n",
       "2         40.710087                  N           2124   \n",
       "3         40.706718                  N            429   \n",
       "4         40.782520                  N            435   \n",
       "\n",
       "   trip_duration_in_minutes pickup_date  pickup_day  pickup_hour  \\\n",
       "0                  7.583333  2016-03-14          14           17   \n",
       "1                 11.050000  2016-06-12          12            0   \n",
       "2                 35.400000  2016-01-19          19           11   \n",
       "3                  7.150000  2016-04-06           6           19   \n",
       "4                  7.250000  2016-03-26          26           13   \n",
       "\n",
       "  pickup_day_of_week dropoff_date  dropoff_day  dropoff_hour  \\\n",
       "0             Monday   2016-03-14           14            17   \n",
       "1             Sunday   2016-06-12           12             0   \n",
       "2            Tuesday   2016-01-19           19            12   \n",
       "3          Wednesday   2016-04-06            6            19   \n",
       "4           Saturday   2016-03-26           26            13   \n",
       "\n",
       "  dropoff_day_of_week  \n",
       "0              Monday  \n",
       "1              Sunday  \n",
       "2             Tuesday  \n",
       "3           Wednesday  \n",
       "4            Saturday  "
      ]
     },
     "execution_count": 13,
     "metadata": {},
     "output_type": "execute_result"
    }
   ],
   "source": [
    "train.head()"
   ]
  },
  {
   "cell_type": "markdown",
   "metadata": {},
   "source": [
    "## Trip volume by day of week\n",
    "\n",
    "The countplots display the total number of pickups and dropoffs respectively for any given day, separated by vendor_id, based on the new 'pickup day of week' and 'dropoff day of week' columns that were newly created. The columns are sorted by value, with the highest volume of rides occured on Friday, followed by Saturday, Thursday and so on. This provides a clearer picture of which days represented the highest volume of taxi rides, separated by the respective vendors.\n",
    "\n",
    "The volume of rides visualized paint a similar picture for both pickups and dropoff. Vendor 2 (green) vastly outranks vendor 1 (blue) on all days. This could either indicate a higher volume of taxis available from vendor 2 or a preference over vendor 1.\n",
    "\n",
    "Nevertheless, we will explore other visualizations."
   ]
  },
  {
   "cell_type": "code",
   "execution_count": 14,
   "metadata": {},
   "outputs": [
    {
     "data": {
      "text/plain": [
       "<matplotlib.axes._subplots.AxesSubplot at 0x2843d2c55f8>"
      ]
     },
     "execution_count": 14,
     "metadata": {},
     "output_type": "execute_result"
    },
    {
     "data": {
      "image/png": "[encoded data removed]",
      "text/plain": [
       "<Figure size 504x288 with 1 Axes>"
      ]
     },
     "metadata": {
      "needs_background": "light"
     },
     "output_type": "display_data"
    },
    {
     "data": {
      "image/png": "[encoded data removed]",
      "text/plain": [
       "<Figure size 504x288 with 1 Axes>"
      ]
     },
     "metadata": {
      "needs_background": "light"
     },
     "output_type": "display_data"
    }
   ],
   "source": [
    "plt.figure(figsize=(7,4))\n",
    "sns.countplot(x='pickup_day_of_week', data = train, palette = 'viridis', order=train['pickup_day_of_week'].value_counts().index, hue='vendor_id')\n",
    "\n",
    "plt.figure(figsize=(7,4))\n",
    "sns.countplot(x='dropoff_day_of_week', data = train, palette = 'viridis', order=train['dropoff_day_of_week'].value_counts().index, hue = 'vendor_id')"
   ]
  },
  {
   "cell_type": "markdown",
   "metadata": {},
   "source": [
    "## Trip volume by hour\n",
    "\n",
    "Similar to the previous section, these plots display the volume of taxi rides for each hour, segrated once again by vendor id. Vendor 2 displays a higher volume at almost all hours with the hours sorted by volume. \n",
    "\n",
    "7pm/1900hrs is shown to have the highest taxi ride volume throughout the day. In order to ease the demand, surge pricing/peak hour pricing could be implemented as well as incentives to take taxis before 6pm or after 8pm.\n",
    "\n",
    "Massive drop in taxi rides on the 31st could be investigated. Incentives could be explored for taxi drivers to work on the 31st to make up for thee reduction in services if it is a supply problem. On the other hand, discounts could be implemented to incentivise customers to take the taxi on the 31st of each month if it is a demand issue.\n",
    "\n",
    "Vendor 1 could possibly choose to focus on its after midnight taxi services, specifically 3/4/5/6 am as those are the only hours which their taxi ride volumes are on par with vendor 2. They could attempt to be the market leader for after-midnight taxi services.\n",
    "\n",
    "An alternative would be for them to focus on the hours where the disparity is the greatest to capture more of the markete share by targeting high volume hours."
   ]
  },
  {
   "cell_type": "code",
   "execution_count": 15,
   "metadata": {},
   "outputs": [
    {
     "data": {
      "text/plain": [
       "<matplotlib.axes._subplots.AxesSubplot at 0x2840b604d30>"
      ]
     },
     "execution_count": 15,
     "metadata": {},
     "output_type": "execute_result"
    },
    {
     "data": {
      "image/png": "[encoded data removed]",
      "text/plain": [
       "<Figure size 504x288 with 1 Axes>"
      ]
     },
     "metadata": {
      "needs_background": "light"
     },
     "output_type": "display_data"
    },
    {
     "data": {
      "image/png": "[encoded data removed]",
      "text/plain": [
       "<Figure size 504x288 with 1 Axes>"
      ]
     },
     "metadata": {
      "needs_background": "light"
     },
     "output_type": "display_data"
    }
   ],
   "source": [
    "plt.figure(figsize=(7,4))\n",
    "sns.countplot(x='pickup_hour', data = train, palette = 'viridis', order=train['pickup_hour'].value_counts().index, hue='vendor_id')\n",
    "\n",
    "plt.figure(figsize=(7,4))\n",
    "sns.countplot(x='dropoff_hour', data = train, palette = 'viridis', order=train['dropoff_hour'].value_counts().index, hue= 'vendor_id')"
   ]
  },
  {
   "cell_type": "markdown",
   "metadata": {},
   "source": [
    "### Trips by vendor and passenger count\n",
    "\n",
    "The plot below display about 100,000 rides in favor of vendor 2 over the 6 month period.\n",
    "\n",
    "As majority of the passengers were 1 passenger trips. Both vendors could look into ride-sharing or taxi-pooling in order to optimize taxi capacity and driver incentive.\n",
    "\n",
    "Even though Vendor 1 is leading primarily in 1 passenger count rides, it has no taxis that caters to 5/6 passengers and is losing out in all other categories. Vendor 1 could inveeest into taxis with higher passenger capacity to capture some of the markeet share. Another possible reason could be due the neighbourhoods that vendor 1 primarily operates where most passengers are going and returning from work, hence the majority of rides having a passenger countt of 1 and the lack of neeed to invest in taxis with higher passenger capacities (e.g. > 5 passengers)."
   ]
  },
  {
   "cell_type": "code",
   "execution_count": 16,
   "metadata": {},
   "outputs": [
    {
     "data": {
      "text/plain": [
       "<matplotlib.axes._subplots.AxesSubplot at 0x2840b7b97f0>"
      ]
     },
     "execution_count": 16,
     "metadata": {},
     "output_type": "execute_result"
    },
    {
     "data": {
      "image/png": "[encoded data removed]",
      "text/plain": [
       "<Figure size 432x288 with 1 Axes>"
      ]
     },
     "metadata": {
      "needs_background": "light"
     },
     "output_type": "display_data"
    }
   ],
   "source": [
    "sns.countplot(x='vendor_id', data = train, palette = 'viridis')"
   ]
  },
  {
   "cell_type": "code",
   "execution_count": 17,
   "metadata": {},
   "outputs": [
    {
     "data": {
      "text/plain": [
       "<matplotlib.axes._subplots.AxesSubplot at 0x2840b870c88>"
      ]
     },
     "execution_count": 17,
     "metadata": {},
     "output_type": "execute_result"
    },
    {
     "data": {
      "image/png": "[encoded data removed]",
      "text/plain": [
       "<Figure size 432x288 with 1 Axes>"
      ]
     },
     "metadata": {
      "needs_background": "light"
     },
     "output_type": "display_data"
    }
   ],
   "source": [
    "sns.countplot(x='passenger_count', data = train, palette = 'viridis', hue = 'vendor_id')"
   ]
  },
  {
   "cell_type": "code",
   "execution_count": 18,
   "metadata": {},
   "outputs": [
    {
     "data": {
      "text/plain": [
       "1    1033540\n",
       "2     210318\n",
       "5      78088\n",
       "3      59896\n",
       "6      48333\n",
       "4      28404\n",
       "0         60\n",
       "7          3\n",
       "9          1\n",
       "8          1\n",
       "Name: passenger_count, dtype: int64"
      ]
     },
     "execution_count": 18,
     "metadata": {},
     "output_type": "execute_result"
    }
   ],
   "source": [
    "train['passenger_count'].value_counts()"
   ]
  },
  {
   "cell_type": "markdown",
   "metadata": {},
   "source": [
    "### Trip frequency by date\n",
    "\n",
    "The total trip frequency is displayed on the line plot below. There is a sharp dip in frequency on 2016-01-23 that should be investigated and exists as an outlier to the rest of the data. Such drastic dips should serve as a point of interest or concern. The dip seems to affect both vendors, which indicates that it is most likely not a company issue.\n",
    "\n",
    "The dip occurred on 2016-01-023 with only 1648 taxi rides on that particular day, compared to the mean of 8014 rides/day"
   ]
  },
  {
   "cell_type": "code",
   "execution_count": 30,
   "metadata": {},
   "outputs": [
    {
     "name": "stdout",
     "output_type": "stream",
     "text": [
      "id    2016-01-23\n",
      "dtype: object\n",
      "id    1648\n",
      "dtype: int64\n",
      "id    8014.527473\n",
      "dtype: float64\n"
     ]
    },
    {
     "data": {
      "image/png": "[encoded data removed]",
      "text/plain": [
       "<Figure size 720x360 with 1 Axes>"
      ]
     },
     "metadata": {
      "needs_background": "light"
     },
     "output_type": "display_data"
    }
   ],
   "source": [
    "plt.figure(figsize=(10,5))\n",
    "plt.title('Frequency of rides by date')\n",
    "plt.plot(train.groupby('pickup_date').count()[['id']], 'o-',label='train', color='green')\n",
    "\n",
    "print(train.groupby('pickup_date').count()[['id']].idxmin())\n",
    "print(train.groupby('pickup_date').count()[['id']].min())\n",
    "print(train.groupby('pickup_date').count()[['id']].mean())"
   ]
  },
  {
   "cell_type": "markdown",
   "metadata": {},
   "source": [
    "## Conclusion \n",
    "\n",
    "Descriptive statistics and data visualizations were utilized to identify missed revenue opportunities and recommend solutions for this particular dataset. The aim of this project was to provide intuitive data visualizations in order to analyse and identify the opportunities easier, and then providing possible recommendations.\n",
    "\n",
    "Given that the dataset has close to 1.5 million rows, visualizations such as countplots and lineplots are necessary to present the information in a format that is easy to read and understand. This is especially important when communicating business results to non-technical parties.\n",
    "\n",
    "This project also demonstrates the importance of data cleaning (with Pandas) to ensure that the dataset is suitable for analysis, so that actionable and valuable insights may be extracted."
   ]
  },
  {
   "cell_type": "code",
   "execution_count": null,
   "metadata": {},
   "outputs": [],
   "source": []
  }
 ],
 "metadata": {
  "kernelspec": {
   "display_name": "Python 3",
   "language": "python",
   "name": "python3"
  },
  "language_info": {
   "codemirror_mode": {
    "name": "ipython",
    "version": 3
   },
   "file_extension": ".py",
   "mimetype": "text/x-python",
   "name": "python",
   "nbconvert_exporter": "python",
   "pygments_lexer": "ipython3",
   "version": "3.7.1"
  }
 },
 "nbformat": 4,
 "nbformat_minor": 2
}
